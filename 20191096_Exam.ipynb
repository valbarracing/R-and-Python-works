{
 "cells": [
  {
   "cell_type": "markdown",
   "id": "4cd09318",
   "metadata": {},
   "source": [
    "# MID TERM EXAM \n",
    "\n",
    "### Name: Valeria Albarracín Garcés\n",
    "### Code: 20191096"
   ]
  },
  {
   "cell_type": "markdown",
   "id": "6d8f3c45",
   "metadata": {},
   "source": [
    "## QUESTION 01:\n",
    "\n",
    "### - What is Poldan’s GDP?"
   ]
  },
  {
   "cell_type": "code",
   "execution_count": 7,
   "id": "7bfac525",
   "metadata": {},
   "outputs": [],
   "source": [
    "Population_Poldan = 175000000\n",
    "GDP_per_worker_Poldan = 29166.667\n",
    "GDP_per_capita_Poldan = 15500"
   ]
  },
  {
   "cell_type": "code",
   "execution_count": 6,
   "id": "df775687",
   "metadata": {},
   "outputs": [
    {
     "data": {
      "text/plain": [
       "2712500000000"
      ]
     },
     "execution_count": 6,
     "metadata": {},
     "output_type": "execute_result"
    }
   ],
   "source": [
    "#GDP_per_capita_Poldan = GDP_Poldan/Population_Poldan\n",
    "GDP_Poldan = GDP_per_capita_Poldan*Population_Poldan\n",
    "GDP_Poldan"
   ]
  },
  {
   "cell_type": "markdown",
   "id": "43ef6d06",
   "metadata": {},
   "source": [
    "### - What is the number of employed people in Poldan?"
   ]
  },
  {
   "cell_type": "code",
   "execution_count": 5,
   "id": "64c94b3e",
   "metadata": {},
   "outputs": [
    {
     "data": {
      "text/plain": [
       "92999998.93714286"
      ]
     },
     "execution_count": 5,
     "metadata": {},
     "output_type": "execute_result"
    }
   ],
   "source": [
    "#GDP_per_worker_Poldan = GDP_Poldan/Employment_Poldan\n",
    "Employment_Poldan = GDP_Poldan/GDP_per_worker_Poldan\n",
    "Employment_Poldan"
   ]
  },
  {
   "cell_type": "markdown",
   "id": "521bbdc9",
   "metadata": {},
   "source": [
    "## QUESTION 02:\n",
    "\n",
    "### - What is Manyger’s GDP per capita?"
   ]
  },
  {
   "cell_type": "code",
   "execution_count": 9,
   "id": "f96503b7",
   "metadata": {},
   "outputs": [],
   "source": [
    "Population_Manyger = 89000000\n",
    "Employment_Manyger = 51000000\n",
    "GDP_Manyger = 2200000000000"
   ]
  },
  {
   "cell_type": "code",
   "execution_count": 10,
   "id": "7f07428b",
   "metadata": {},
   "outputs": [
    {
     "data": {
      "text/plain": [
       "24719.101123595505"
      ]
     },
     "execution_count": 10,
     "metadata": {},
     "output_type": "execute_result"
    }
   ],
   "source": [
    "GDP_per_capita_Manyger = GDP_Manyger/Population_Manyger\n",
    "GDP_per_capita_Manyger"
   ]
  },
  {
   "cell_type": "markdown",
   "id": "b3a245b9",
   "metadata": {},
   "source": [
    "### - What is Manyger’s GDP per worker?"
   ]
  },
  {
   "cell_type": "code",
   "execution_count": 11,
   "id": "b677344a",
   "metadata": {},
   "outputs": [
    {
     "data": {
      "text/plain": [
       "43137.25490196078"
      ]
     },
     "execution_count": 11,
     "metadata": {},
     "output_type": "execute_result"
    }
   ],
   "source": [
    "GDP_per_worker_Manyger = GDP_Manyger/Employment_Manyger\n",
    "GDP_per_worker_Manyger"
   ]
  },
  {
   "cell_type": "markdown",
   "id": "af18bc2d",
   "metadata": {},
   "source": [
    "### - Based on the given information, which country would be considered more productive? Explain your answer.\n",
    "\n",
    "#### At first glance, it seems that Poldan would be considered more productive, since its GDP, population, and number of workers are vastly higher than Manyger's. However, GDP per capita and GDP per worker show the opposite: Manyger's productivity is higher than Poldan's. It is important to notice that productivity refers to the value of goods and services that workers generate per hour. Thus, although Poldan has a larger human capital in terms of quantity, is probably that the productivity of its workers is lower than Manyger’s. Consequently, both Manyger's GDP per capita, understood as the average Gross Product for each person, and his GDP per worker, understood as the average Gross Product for each worker (active in the economy), are higher. Furthermore, to understand the differences between productivity, physical capital and technology must be taken into consideration. This data was not given, but the results show that Manyger probably has better performance."
   ]
  },
  {
   "cell_type": "markdown",
   "id": "ed3e0e6c",
   "metadata": {},
   "source": [
    "### - Which country do you think has higher living standards?\n",
    "#### Considering the GDP of both countries, it seems that the citizens of Poldan have higher living standards, since their country is richer. However, although GDP helps to understand the country's general economic situation, it does not explain how these incomes are distributed among population. In this sense, GDP per capita is a better tool to measure the citizen’s situation. Therefore, Manyger has higher living standards. Even though this is already an average of entire population, the average income per capita of a nation is not the same as the income of all individuals in that nation. Once again, the real distribution of income is not taken into account. Despite this, Manyger's GDP per capita does give a general idea of prosperity and a higher standard of living than Poldan."
   ]
  },
  {
   "cell_type": "markdown",
   "id": "3638dcf0",
   "metadata": {},
   "source": [
    "## QUESTION 03: \n",
    "\n",
    "### - Suppose that from period 1 to period 2, the unemployment rate in the economy decreases. Everything else remains unchanged. What happens to the total efficiency units of labor? Express your results formally as an inequality, using the formula for total efficiency units of labor presented in the chapter."
   ]
  },
  {
   "cell_type": "code",
   "execution_count": 52,
   "id": "d3d0733b",
   "metadata": {},
   "outputs": [
    {
     "data": {
      "text/plain": [
       "40000"
      ]
     },
     "execution_count": 52,
     "metadata": {},
     "output_type": "execute_result"
    }
   ],
   "source": [
    "# Period 1: H1 = L1*h\n",
    "# Period 2: H2 = L2*h\n",
    "\n",
    "X = X\n",
    "L2 = L1*X\n",
    "\n",
    "H2 = L2*h\n",
    "H2 = (L1*X)*h; H1 = L1*h \n",
    "H2 = L1*h*X\n",
    "H2"
   ]
  },
  {
   "cell_type": "code",
   "execution_count": 71,
   "id": "d69a820b",
   "metadata": {},
   "outputs": [
    {
     "data": {
      "text/plain": [
       "True"
      ]
     },
     "execution_count": 71,
     "metadata": {},
     "output_type": "execute_result"
    }
   ],
   "source": [
    "# Period 1: H1 = L1*h\n",
    "# Period 2: H2 = L2*h\n",
    "\n",
    "X = X\n",
    "L2 = L1*X\n",
    "\n",
    "H2 = L2*h\n",
    "H2 = (L1*X)*h; H1 = L1*h \n",
    "H2 = L1*h*X\n",
    "H2\n",
    "\n",
    "H2>H1"
   ]
  },
  {
   "cell_type": "markdown",
   "id": "7cc14f23",
   "metadata": {},
   "source": [
    "### - What are the consequences of this decrease in unemployment for GDP? Express your results formally as an inequality, using the aggregate production function presented in the chapter."
   ]
  },
  {
   "cell_type": "code",
   "execution_count": 88,
   "id": "3351b70e",
   "metadata": {},
   "outputs": [
    {
     "data": {
      "text/plain": [
       "True"
      ]
     },
     "execution_count": 88,
     "metadata": {},
     "output_type": "execute_result"
    }
   ],
   "source": [
    "# Y = K^1/3 * H^2/3\n",
    "A = 1\n",
    "K1 = K1\n",
    "H1 = H1\n",
    "Y1 = A * (K1)**1/3 * (H1)**2/3\n",
    "\n",
    "K2 = K1 * X\n",
    "H2 = H1 * X\n",
    "Y2 = A * (K2)**1/3 * (H2)**2/3\n",
    "\n",
    "Y2 = A * (K1*X)**1/3 * (H1*X)**2/3\n",
    "Y2 = A * (K1)**1/3 * (X)**1/3 * (H1)**1/3 * (X)**2/3\n",
    "Y2 = X * A * (K1)**1/3 * (H1)**2/3\n",
    "Y2 = X * (Y1)\n",
    "\n",
    "Y2 > Y1"
   ]
  },
  {
   "cell_type": "markdown",
   "id": "39691e15",
   "metadata": {},
   "source": [
    "### - What are the consequences for GDP per capita and GDP per worker?\n",
    "\n",
    "#### On the one hand, given the increase in GDP, the GDP per capita will also grow. Because the latter is the division of the former by the total population. Since the population has neither increased nor decreased, the income per person will. On the other hand, given that the number of workers has increased, it might seem that GDP per worker should also be higher. However, considering that the GDP was also affected by unemployment rate drop, the GDP per worker will remain the same as in the first period."
   ]
  },
  {
   "cell_type": "markdown",
   "id": "c5f3f6d7",
   "metadata": {},
   "source": [
    "### - Suppose that there is a technological advance from period 1 to period 2 and, at the same time, an increase in physical capital stock? Can you say whether GDP will increase or decrease? Why or why not?\n",
    "\n",
    "#### Although it is evident that an increase in technology and physical capital, being two factors of production, will produce an increase in GDP. Two observations need to be taken into account. First, the Law of Diminishing Marginal Product. As the physical capital stock increases, so does GDP. But this relationship becomes less and less pronounced as physical capital continue increasing. By keeping the number of workers and the technology constant, there will not be, for example, enough hands to use all the machines or enough efficiency to operate them. However, by mentioning that technology also increases, the effects of the Law of Diminishing Marginal Product will decrease. Because of technology determines how efficiently the economy uses its inputs, the relationship between GDP and physical capital will improve. Therefore, better physical capital and better technology implies that the economy will produce more GDP."
   ]
  },
  {
   "cell_type": "markdown",
   "id": "c3abf485",
   "metadata": {},
   "source": [
    "## QUESTION 04: \n",
    "\n",
    "### - Currently, some of the fastest-growing countries in the world remain desperately poor. For example, of the top five fastest-growing economies in 2016, three—Iraq, Burma, and Nauru—had real per capita GDPs that are 101st, 162nd, and 112th in the world, respectively. (Source: CIA, The World Factbook estimates for 2016, PPP basis.) This seems like something of a contradiction. Using the equations for growth given in lectures 3 & 4, explain why a country that has a very low real per capita GDP can also have a very high growth rate.\n",
    "\n",
    "#### To understand why some of the fastest-growing economies remain extremely poor, it must be understood the implications of the growth rate equation and the exponential growth equation.\n",
    "\n",
    "#### Countries like Iraq, Burma or Nauru are experiencing positive changes in their economic growth rates. That is, their GDP per capita has grown with respect to a certain period and, consequently, to a base amount. It is the latter, the reference quantity, that matters: in countries with low GDP per capita, a relatively significant % increase from one period to another does not imply a large increase in quantity. For example, from 2016 to 2017 Iraq's GDP per capita grew by approximately 0.11%, while the US’s grew 0.035%. However, because of the widely different bases, this meant an increase of 2,088 dollars in the US’s GDP per capita and only a 526 dollars increase in Iraq’s.\n",
    "\n",
    "#### Therefore, it is not a contradiction that an economy with very high growth rate continues to have fairly low GDP per capita. To make this situation change, exponential or sustained growth must be experienced. As shown in the second equation, GDP per capita must grow by a constant amount. Thus, apparently differences in growth rates translate into large differences in quantity after many years of growing. That is why countries that have grown steadily over the past 200 years are relative rich nations today."
   ]
  },
  {
   "cell_type": "markdown",
   "id": "2cea8503",
   "metadata": {},
   "source": [
    "## QUESTION 05:\n",
    "\n",
    "### - Increasingly, independent programmers are making their code “open source.” The programming language “Python,” for example, is completely free and open; anyone can submit a new package of specialized functions. How might open-source technology affect growth in developing countries? Imagine every technology company in the United States suddenly made their code open-source; would this increase growth in developing countries? Explain.\n",
    "\n",
    "#### In line with question 4, if a country wants to increase its economic growth, it needs to be sustained. But it has been seen that both the accumulation of physical capital and labor force do not actually produce sustained growth. On the contrary, because of the diminishing marginal product of physical capital and the diminishing marginal product of labor, an increase in either of these two factors of production will translate into smaller and smaller increases in GDP. So, what can make an economy grow steadily? Technology is one of the answers.\n",
    "\n",
    "#### A technological change, such as access to open-source code from US companies, implies that not only new technologies enter and are used in the economy, but also allow higher levels of GDP to be reached. Technology determines how efficiently the economy uses its inputs. A better technology therefore means that the economy can generate more output from the same set of human and physical capital. This is because technological change follows the same exponential logic as sustained growth: a technological advance does not come out of nowhere, but rather it builds on the knowledge from past innovations. Due to this exponential nature, access to new and open-source technology will not only allow knowledge to be enriched, but, from this conjunction, technology will continue to develop on its base and consequently GDP will increase. However, for developing countries, three aspects cannot be ignored for this growth to materialize: technology like Python needs access to a computer, to internet connection, and to education; three things that many of the developing countries lack."
   ]
  },
  {
   "cell_type": "markdown",
   "id": "0fb45878",
   "metadata": {},
   "source": [
    "## QUESTION 06:\n",
    "\n",
    "### - The following table shows the employment level, unemployment level, and the labor force participation rate in Greece for the month of March of every year from 2008 to 2020. Use the given data to complete the table and answer the following questions."
   ]
  },
  {
   "cell_type": "code",
   "execution_count": 109,
   "id": "decdba3a",
   "metadata": {},
   "outputs": [],
   "source": [
    "import pandas as pd"
   ]
  },
  {
   "cell_type": "code",
   "execution_count": 158,
   "id": "1e3270a8",
   "metadata": {},
   "outputs": [
    {
     "data": {
      "text/html": [
       "<div>\n",
       "<style scoped>\n",
       "    .dataframe tbody tr th:only-of-type {\n",
       "        vertical-align: middle;\n",
       "    }\n",
       "\n",
       "    .dataframe tbody tr th {\n",
       "        vertical-align: top;\n",
       "    }\n",
       "\n",
       "    .dataframe thead th {\n",
       "        text-align: right;\n",
       "    }\n",
       "</style>\n",
       "<table border=\"1\" class=\"dataframe\">\n",
       "  <thead>\n",
       "    <tr style=\"text-align: right;\">\n",
       "      <th></th>\n",
       "      <th>Year</th>\n",
       "      <th>Number unemployed</th>\n",
       "      <th>Number employed</th>\n",
       "      <th>Labor force participation rate</th>\n",
       "    </tr>\n",
       "  </thead>\n",
       "  <tbody>\n",
       "    <tr>\n",
       "      <th>0</th>\n",
       "      <td>2008</td>\n",
       "      <td>454.1000</td>\n",
       "      <td>4537.4000</td>\n",
       "      <td>52.90</td>\n",
       "    </tr>\n",
       "    <tr>\n",
       "      <th>1</th>\n",
       "      <td>2009</td>\n",
       "      <td>475.1000</td>\n",
       "      <td>4535.5000</td>\n",
       "      <td>53.20</td>\n",
       "    </tr>\n",
       "    <tr>\n",
       "      <th>2</th>\n",
       "      <td>2010</td>\n",
       "      <td>594.9000</td>\n",
       "      <td>4432.1000</td>\n",
       "      <td>53.60</td>\n",
       "    </tr>\n",
       "    <tr>\n",
       "      <th>3</th>\n",
       "      <td>2011</td>\n",
       "      <td>828.3000</td>\n",
       "      <td>4126.0000</td>\n",
       "      <td>53.00</td>\n",
       "    </tr>\n",
       "    <tr>\n",
       "      <th>4</th>\n",
       "      <td>2012</td>\n",
       "      <td>1130.4000</td>\n",
       "      <td>3745.6000</td>\n",
       "      <td>52.40</td>\n",
       "    </tr>\n",
       "    <tr>\n",
       "      <th>5</th>\n",
       "      <td>2013</td>\n",
       "      <td>1302.8000</td>\n",
       "      <td>3491.0000</td>\n",
       "      <td>52.00</td>\n",
       "    </tr>\n",
       "    <tr>\n",
       "      <th>6</th>\n",
       "      <td>2014</td>\n",
       "      <td>1343.4000</td>\n",
       "      <td>3495.6000</td>\n",
       "      <td>51.90</td>\n",
       "    </tr>\n",
       "    <tr>\n",
       "      <th>7</th>\n",
       "      <td>2015</td>\n",
       "      <td>1299.4000</td>\n",
       "      <td>3438.1000</td>\n",
       "      <td>51.60</td>\n",
       "    </tr>\n",
       "    <tr>\n",
       "      <th>8</th>\n",
       "      <td>2016</td>\n",
       "      <td>1189.9000</td>\n",
       "      <td>3600.7000</td>\n",
       "      <td>52.04</td>\n",
       "    </tr>\n",
       "    <tr>\n",
       "      <th>9</th>\n",
       "      <td>2017</td>\n",
       "      <td>1079.7170</td>\n",
       "      <td>3669.1972</td>\n",
       "      <td>51.90</td>\n",
       "    </tr>\n",
       "    <tr>\n",
       "      <th>10</th>\n",
       "      <td>2018</td>\n",
       "      <td>973.5729</td>\n",
       "      <td>3768.6290</td>\n",
       "      <td>51.60</td>\n",
       "    </tr>\n",
       "    <tr>\n",
       "      <th>11</th>\n",
       "      <td>2019</td>\n",
       "      <td>844.0380</td>\n",
       "      <td>3846.3319</td>\n",
       "      <td>51.80</td>\n",
       "    </tr>\n",
       "    <tr>\n",
       "      <th>12</th>\n",
       "      <td>2020</td>\n",
       "      <td>665.3619</td>\n",
       "      <td>3813.0379</td>\n",
       "      <td>50.60</td>\n",
       "    </tr>\n",
       "  </tbody>\n",
       "</table>\n",
       "</div>"
      ],
      "text/plain": [
       "    Year  Number unemployed  Number employed  Labor force participation rate\n",
       "0   2008           454.1000        4537.4000                           52.90\n",
       "1   2009           475.1000        4535.5000                           53.20\n",
       "2   2010           594.9000        4432.1000                           53.60\n",
       "3   2011           828.3000        4126.0000                           53.00\n",
       "4   2012          1130.4000        3745.6000                           52.40\n",
       "5   2013          1302.8000        3491.0000                           52.00\n",
       "6   2014          1343.4000        3495.6000                           51.90\n",
       "7   2015          1299.4000        3438.1000                           51.60\n",
       "8   2016          1189.9000        3600.7000                           52.04\n",
       "9   2017          1079.7170        3669.1972                           51.90\n",
       "10  2018           973.5729        3768.6290                           51.60\n",
       "11  2019           844.0380        3846.3319                           51.80\n",
       "12  2020           665.3619        3813.0379                           50.60"
      ]
     },
     "execution_count": 158,
     "metadata": {},
     "output_type": "execute_result"
    }
   ],
   "source": [
    "df = pd.DataFrame()\n",
    "\n",
    "df['Year'] = [2008, 2009, 2010, 2011, 2012, 2013, 2014, 2015, 2016, 2017, 2018, 2019, 2020]\n",
    "df['Number unemployed'] = [454.1, 475.1, 594.9, 828.3, 1130.4, 1302.8, 1343.4, 1299.4, 1189.9, 1079.717, 973.5729, 844.038, 665.3619]\n",
    "df['Number employed'] = [4537.4, 4535.5, 4432.1, 4126, 3745.6, 3491, 3495.6, 3438.1, 3600.7, 3669.1972, 3768.629, 3846.3319, 3813.0379]\n",
    "df['Labor force participation rate'] = [52.9, 53.2, 53.6, 53, 52.4, 52, 51.9, 51.6, 52.04, 51.9, 51.6, 51.8, 50.6]\n",
    "\n",
    "df"
   ]
  },
  {
   "cell_type": "code",
   "execution_count": 159,
   "id": "03d496b8",
   "metadata": {},
   "outputs": [
    {
     "data": {
      "text/html": [
       "<div>\n",
       "<style scoped>\n",
       "    .dataframe tbody tr th:only-of-type {\n",
       "        vertical-align: middle;\n",
       "    }\n",
       "\n",
       "    .dataframe tbody tr th {\n",
       "        vertical-align: top;\n",
       "    }\n",
       "\n",
       "    .dataframe thead th {\n",
       "        text-align: right;\n",
       "    }\n",
       "</style>\n",
       "<table border=\"1\" class=\"dataframe\">\n",
       "  <thead>\n",
       "    <tr style=\"text-align: right;\">\n",
       "      <th></th>\n",
       "      <th>Year</th>\n",
       "      <th>Number unemployed</th>\n",
       "      <th>Number employed</th>\n",
       "      <th>Labor force participation rate</th>\n",
       "      <th>Labor force</th>\n",
       "      <th>Unemployment rate</th>\n",
       "      <th>Employment rate</th>\n",
       "      <th>Adult population</th>\n",
       "    </tr>\n",
       "  </thead>\n",
       "  <tbody>\n",
       "    <tr>\n",
       "      <th>0</th>\n",
       "      <td>2008</td>\n",
       "      <td>454.1000</td>\n",
       "      <td>4537.4000</td>\n",
       "      <td>52.90</td>\n",
       "      <td>4991.5000</td>\n",
       "      <td>9.097466</td>\n",
       "      <td>90.902534</td>\n",
       "      <td>9435.727788</td>\n",
       "    </tr>\n",
       "    <tr>\n",
       "      <th>1</th>\n",
       "      <td>2009</td>\n",
       "      <td>475.1000</td>\n",
       "      <td>4535.5000</td>\n",
       "      <td>53.20</td>\n",
       "      <td>5010.6000</td>\n",
       "      <td>9.481898</td>\n",
       "      <td>90.518102</td>\n",
       "      <td>9418.421053</td>\n",
       "    </tr>\n",
       "    <tr>\n",
       "      <th>2</th>\n",
       "      <td>2010</td>\n",
       "      <td>594.9000</td>\n",
       "      <td>4432.1000</td>\n",
       "      <td>53.60</td>\n",
       "      <td>5027.0000</td>\n",
       "      <td>11.834096</td>\n",
       "      <td>88.165904</td>\n",
       "      <td>9378.731343</td>\n",
       "    </tr>\n",
       "    <tr>\n",
       "      <th>3</th>\n",
       "      <td>2011</td>\n",
       "      <td>828.3000</td>\n",
       "      <td>4126.0000</td>\n",
       "      <td>53.00</td>\n",
       "      <td>4954.3000</td>\n",
       "      <td>16.718810</td>\n",
       "      <td>83.281190</td>\n",
       "      <td>9347.735849</td>\n",
       "    </tr>\n",
       "    <tr>\n",
       "      <th>4</th>\n",
       "      <td>2012</td>\n",
       "      <td>1130.4000</td>\n",
       "      <td>3745.6000</td>\n",
       "      <td>52.40</td>\n",
       "      <td>4876.0000</td>\n",
       "      <td>23.182937</td>\n",
       "      <td>76.817063</td>\n",
       "      <td>9305.343511</td>\n",
       "    </tr>\n",
       "    <tr>\n",
       "      <th>5</th>\n",
       "      <td>2013</td>\n",
       "      <td>1302.8000</td>\n",
       "      <td>3491.0000</td>\n",
       "      <td>52.00</td>\n",
       "      <td>4793.8000</td>\n",
       "      <td>27.176770</td>\n",
       "      <td>72.823230</td>\n",
       "      <td>9218.846154</td>\n",
       "    </tr>\n",
       "    <tr>\n",
       "      <th>6</th>\n",
       "      <td>2014</td>\n",
       "      <td>1343.4000</td>\n",
       "      <td>3495.6000</td>\n",
       "      <td>51.90</td>\n",
       "      <td>4839.0000</td>\n",
       "      <td>27.761934</td>\n",
       "      <td>72.238066</td>\n",
       "      <td>9323.699422</td>\n",
       "    </tr>\n",
       "    <tr>\n",
       "      <th>7</th>\n",
       "      <td>2015</td>\n",
       "      <td>1299.4000</td>\n",
       "      <td>3438.1000</td>\n",
       "      <td>51.60</td>\n",
       "      <td>4737.5000</td>\n",
       "      <td>27.427968</td>\n",
       "      <td>72.572032</td>\n",
       "      <td>9181.201550</td>\n",
       "    </tr>\n",
       "    <tr>\n",
       "      <th>8</th>\n",
       "      <td>2016</td>\n",
       "      <td>1189.9000</td>\n",
       "      <td>3600.7000</td>\n",
       "      <td>52.04</td>\n",
       "      <td>4790.6000</td>\n",
       "      <td>24.838225</td>\n",
       "      <td>75.161775</td>\n",
       "      <td>9205.611068</td>\n",
       "    </tr>\n",
       "    <tr>\n",
       "      <th>9</th>\n",
       "      <td>2017</td>\n",
       "      <td>1079.7170</td>\n",
       "      <td>3669.1972</td>\n",
       "      <td>51.90</td>\n",
       "      <td>4748.9142</td>\n",
       "      <td>22.736081</td>\n",
       "      <td>77.263919</td>\n",
       "      <td>9150.123699</td>\n",
       "    </tr>\n",
       "    <tr>\n",
       "      <th>10</th>\n",
       "      <td>2018</td>\n",
       "      <td>973.5729</td>\n",
       "      <td>3768.6290</td>\n",
       "      <td>51.60</td>\n",
       "      <td>4742.2019</td>\n",
       "      <td>20.529976</td>\n",
       "      <td>79.470024</td>\n",
       "      <td>9190.313760</td>\n",
       "    </tr>\n",
       "    <tr>\n",
       "      <th>11</th>\n",
       "      <td>2019</td>\n",
       "      <td>844.0380</td>\n",
       "      <td>3846.3319</td>\n",
       "      <td>51.80</td>\n",
       "      <td>4690.3699</td>\n",
       "      <td>17.995127</td>\n",
       "      <td>82.004873</td>\n",
       "      <td>9054.768147</td>\n",
       "    </tr>\n",
       "    <tr>\n",
       "      <th>12</th>\n",
       "      <td>2020</td>\n",
       "      <td>665.3619</td>\n",
       "      <td>3813.0379</td>\n",
       "      <td>50.60</td>\n",
       "      <td>4478.3998</td>\n",
       "      <td>14.857135</td>\n",
       "      <td>85.142865</td>\n",
       "      <td>8850.592490</td>\n",
       "    </tr>\n",
       "  </tbody>\n",
       "</table>\n",
       "</div>"
      ],
      "text/plain": [
       "    Year  Number unemployed  Number employed  Labor force participation rate  \\\n",
       "0   2008           454.1000        4537.4000                           52.90   \n",
       "1   2009           475.1000        4535.5000                           53.20   \n",
       "2   2010           594.9000        4432.1000                           53.60   \n",
       "3   2011           828.3000        4126.0000                           53.00   \n",
       "4   2012          1130.4000        3745.6000                           52.40   \n",
       "5   2013          1302.8000        3491.0000                           52.00   \n",
       "6   2014          1343.4000        3495.6000                           51.90   \n",
       "7   2015          1299.4000        3438.1000                           51.60   \n",
       "8   2016          1189.9000        3600.7000                           52.04   \n",
       "9   2017          1079.7170        3669.1972                           51.90   \n",
       "10  2018           973.5729        3768.6290                           51.60   \n",
       "11  2019           844.0380        3846.3319                           51.80   \n",
       "12  2020           665.3619        3813.0379                           50.60   \n",
       "\n",
       "    Labor force  Unemployment rate  Employment rate  Adult population  \n",
       "0     4991.5000           9.097466        90.902534       9435.727788  \n",
       "1     5010.6000           9.481898        90.518102       9418.421053  \n",
       "2     5027.0000          11.834096        88.165904       9378.731343  \n",
       "3     4954.3000          16.718810        83.281190       9347.735849  \n",
       "4     4876.0000          23.182937        76.817063       9305.343511  \n",
       "5     4793.8000          27.176770        72.823230       9218.846154  \n",
       "6     4839.0000          27.761934        72.238066       9323.699422  \n",
       "7     4737.5000          27.427968        72.572032       9181.201550  \n",
       "8     4790.6000          24.838225        75.161775       9205.611068  \n",
       "9     4748.9142          22.736081        77.263919       9150.123699  \n",
       "10    4742.2019          20.529976        79.470024       9190.313760  \n",
       "11    4690.3699          17.995127        82.004873       9054.768147  \n",
       "12    4478.3998          14.857135        85.142865       8850.592490  "
      ]
     },
     "execution_count": 159,
     "metadata": {},
     "output_type": "execute_result"
    }
   ],
   "source": [
    "df['Labor force'] = df[\"Number employed\"] + df[\"Number unemployed\"]\n",
    "df['Unemployment rate'] = (df[\"Number unemployed\"]/df['Labor force'])*100\n",
    "df['Employment rate'] = (df[\"Number employed\"]/df['Labor force'])*100\n",
    "df['Adult population'] = (df[\"Labor force\"]/df[\"Labor force participation rate\"])*100\n",
    "\n",
    "df"
   ]
  },
  {
   "cell_type": "markdown",
   "id": "38ea36db",
   "metadata": {},
   "source": [
    "### - In which years did the economy witness increases in the unemployment rate? What could possibly explain this?\n",
    "\n",
    "#### A constant increase in the unemployment rate is observed from 2010 to 2015, from where unemployment begins to fall but without returning to 2008 levels. It should be noted that the 2008 unemployment rate is quite high and it is probably linked to the 2008 global economic crisis. However, the subsequent increase is due to the debt crisis that Greece suffered from the end of 2009 to mid 2019. Given the constant falls in GDP, as expected, employment started to fall. The magnitude of this recession translated into unemployment rates of almost 28%. Such severe percentages can be compared to the largest contraction of the last century, the Great Crash of 29, where unemployment in the US reached 25%."
   ]
  },
  {
   "cell_type": "markdown",
   "id": "0b416925",
   "metadata": {},
   "source": [
    "### - Use the data on the size of the labor force and potential workers to compute the percentage of adults out of the labor force for the year 2017. Verify that your calculation is equal to one minus the labor force participation rate."
   ]
  },
  {
   "cell_type": "code",
   "execution_count": 161,
   "id": "699bdcb5",
   "metadata": {},
   "outputs": [
    {
     "data": {
      "text/html": [
       "<div>\n",
       "<style scoped>\n",
       "    .dataframe tbody tr th:only-of-type {\n",
       "        vertical-align: middle;\n",
       "    }\n",
       "\n",
       "    .dataframe tbody tr th {\n",
       "        vertical-align: top;\n",
       "    }\n",
       "\n",
       "    .dataframe thead th {\n",
       "        text-align: right;\n",
       "    }\n",
       "</style>\n",
       "<table border=\"1\" class=\"dataframe\">\n",
       "  <thead>\n",
       "    <tr style=\"text-align: right;\">\n",
       "      <th></th>\n",
       "      <th>Year</th>\n",
       "      <th>Number unemployed</th>\n",
       "      <th>Number employed</th>\n",
       "      <th>Labor force participation rate</th>\n",
       "      <th>Labor force</th>\n",
       "      <th>Unemployment rate</th>\n",
       "      <th>Employment rate</th>\n",
       "      <th>Adult population</th>\n",
       "    </tr>\n",
       "  </thead>\n",
       "  <tbody>\n",
       "    <tr>\n",
       "      <th>9</th>\n",
       "      <td>2017</td>\n",
       "      <td>1079.717</td>\n",
       "      <td>3669.1972</td>\n",
       "      <td>51.9</td>\n",
       "      <td>4748.9142</td>\n",
       "      <td>22.736081</td>\n",
       "      <td>77.263919</td>\n",
       "      <td>9150.123699</td>\n",
       "    </tr>\n",
       "  </tbody>\n",
       "</table>\n",
       "</div>"
      ],
      "text/plain": [
       "   Year  Number unemployed  Number employed  Labor force participation rate  \\\n",
       "9  2017           1079.717        3669.1972                            51.9   \n",
       "\n",
       "   Labor force  Unemployment rate  Employment rate  Adult population  \n",
       "9    4748.9142          22.736081        77.263919       9150.123699  "
      ]
     },
     "execution_count": 161,
     "metadata": {},
     "output_type": "execute_result"
    }
   ],
   "source": [
    "df_2017 = df[df['Year'] == 2017 ]\n",
    "df_2017\n"
   ]
  },
  {
   "cell_type": "code",
   "execution_count": 163,
   "id": "121976f4",
   "metadata": {},
   "outputs": [
    {
     "data": {
      "text/plain": [
       "9    4401.209499\n",
       "dtype: float64"
      ]
     },
     "execution_count": 163,
     "metadata": {},
     "output_type": "execute_result"
    }
   ],
   "source": [
    "OUT_LF = df_2017['Adult population'] - df_2017['Labor force']\n",
    "OUT_LF"
   ]
  },
  {
   "cell_type": "code",
   "execution_count": 167,
   "id": "3598a409",
   "metadata": {},
   "outputs": [
    {
     "data": {
      "text/plain": [
       "9    48.1\n",
       "dtype: float64"
      ]
     },
     "execution_count": 167,
     "metadata": {},
     "output_type": "execute_result"
    }
   ],
   "source": [
    "OUT_LF_PR = (OUT_LF / df_2017['Adult population'])*100\n",
    "OUT_LF_PR"
   ]
  },
  {
   "cell_type": "code",
   "execution_count": 165,
   "id": "7cc30a5d",
   "metadata": {},
   "outputs": [
    {
     "data": {
      "text/plain": [
       "9    48.1\n",
       "Name: Labor force participation rate, dtype: float64"
      ]
     },
     "execution_count": 165,
     "metadata": {},
     "output_type": "execute_result"
    }
   ],
   "source": [
    "100 - df_2017['Labor force participation rate']"
   ]
  },
  {
   "cell_type": "markdown",
   "id": "9a799b6e",
   "metadata": {},
   "source": [
    "### - What are the general trends that you observe in the data?\n",
    "\n",
    "#### First, there is an increasing trend in the number of unemployed from 2009 to 2015 which, as has been mentioned, was due to the debt crisis that Greece experienced.\n",
    "\n",
    "#### Second, despite this recession, the labor force participation rate has remained relatively constant, hovering between 50-53%. This implies that the number of people who work and are looking for a job in relation to the entire population able to work has not changed substantially over time.\n",
    "\n",
    "#### Third, it is noted that the unemployment rate for the year 2020, surprisingly, fell by almost 3%. This shows that, despite the pandemic and evident decline in the adult population, Greece has not experienced a destructive drop in employment. Although this does not imply that the unemployment rate of 14.85% is low."
   ]
  },
  {
   "cell_type": "markdown",
   "id": "50390c0b",
   "metadata": {},
   "source": [
    "## QUESTION 07: Assume that 1 million immigrants enter Peru from Venezuela this year and that some of these immigrants work in the home construction industry.\n",
    "\n",
    "### - Graph the impact of immigration on the supply of labor and the resulting new equilibrium wage and quantity."
   ]
  },
  {
   "cell_type": "code",
   "execution_count": 1,
   "id": "2dc98946",
   "metadata": {},
   "outputs": [],
   "source": [
    "%matplotlib inline\n",
    "import matplotlib.pyplot as plt\n",
    "import numpy as np\n",
    "import sympy as sy"
   ]
  },
  {
   "cell_type": "code",
   "execution_count": 4,
   "id": "0f24ed7e",
   "metadata": {},
   "outputs": [
    {
     "data": {
      "text/plain": [
       "<matplotlib.lines.Line2D at 0x7fb97733cc10>"
      ]
     },
     "execution_count": 4,
     "metadata": {},
     "output_type": "execute_result"
    },
    {
     "data": {
      "image/png": "[encoded data removed]",
      "text/plain": [
       "<Figure size 432x288 with 1 Axes>"
      ]
     },
     "metadata": {
      "needs_background": "light"
     },
     "output_type": "display_data"
    }
   ],
   "source": [
    "def S(q):\n",
    "    return (q + 20)**2\n",
    "\n",
    "def S2(q):\n",
    "    return (q + 15)**2\n",
    "\n",
    "plt.plot(q, S(q),label = \"Supply Curve\")\n",
    "plt.plot(q, S2(q),label = \"New Supply Curve\")\n",
    "plt.legend(frameon = False)\n",
    "plt.plot(5,630, marker=\"o\", color=\"black\")\n",
    "plt.plot(5,410, marker=\"o\", color=\"black\")\n",
    "plt.axvline(x=5,  ymin= 0, ymax= 0.4, linestyle = \":\", color = \"black\")\n",
    "plt.axhline(y=630, xmin= 0, xmax= 0.32, linestyle = \":\", color = \"black\")\n",
    "plt.axhline(y=410, xmin= 0, xmax= 0.32, linestyle = \":\", color = \"black\")"
   ]
  },
  {
   "cell_type": "code",
   "execution_count": 3,
   "id": "712ed37c",
   "metadata": {},
   "outputs": [
    {
     "data": {
      "text/plain": [
       "<matplotlib.lines.Line2D at 0x7fb97720ad60>"
      ]
     },
     "execution_count": 3,
     "metadata": {},
     "output_type": "execute_result"
    },
    {
     "data": {
      "image/png": "[encoded data removed]",
      "text/plain": [
       "<Figure size 432x288 with 1 Axes>"
      ]
     },
     "metadata": {
      "needs_background": "light"
     },
     "output_type": "display_data"
    }
   ],
   "source": [
    "def S(q):\n",
    "    return (q + 20)**2\n",
    "def S2(q):\n",
    "    return (q + 15)**2\n",
    "def D(q):\n",
    "    return (q - 30)**2\n",
    "q = np.linspace(0, 16, 1000)\n",
    "\n",
    "plt.plot(q, S(q),label = \"Supply Curve\")\n",
    "plt.plot(q, S2(q),label = \"New Supply Curve\")\n",
    "plt.plot(q, D(q), label = \"Demand Curve\")\n",
    "\n",
    "plt.legend(frameon = False)\n",
    "plt.plot(5,630, marker=\"o\", color=\"black\")\n",
    "plt.plot(7.5,508, marker=\"o\", color=\"black\")\n",
    "\n",
    "plt.axvline(x=5,  ymin= 0, ymax= 0.4, linestyle = \":\", color = \"black\")\n",
    "plt.axhline(y=630, xmin= 0, xmax= 0.32, linestyle = \":\", color = \"black\")\n",
    "plt.axvline(x=7.5, ymin= 0, ymax= 0.3, linestyle = \":\", color = \"black\")\n",
    "plt.axhline(y=508, xmin= 0, xmax= 0.46, linestyle = \":\", color = \"black\")"
   ]
  },
  {
   "cell_type": "markdown",
   "id": "293f437c",
   "metadata": {},
   "source": [
    "### - These new immigrants also increase the demand for housing. Graph the change in the demand for labor in the home construction industry due to the increased demand for housing. Without considering the increase in the supply of labor, how does the equilibrium wage and quantity of workers hired change?\n",
    "\n",
    "#### Thanks to the arrival of Venezuelan migrants, there will be a greater demand for housing that will affect the construction industry. The demand for housing curve's therefore will undergo an expansion. However, considering that the supply of workers will remain constant, the demand will cause an increase in the marginal product of workers. Because, given the impossibility of hiring more labor, the same number of workers will have to respond to a greater demand. So, by having to produce more, their wages will also increase."
   ]
  },
  {
   "cell_type": "code",
   "execution_count": 437,
   "id": "ed9eb588",
   "metadata": {},
   "outputs": [
    {
     "data": {
      "text/plain": [
       "<matplotlib.lines.Line2D at 0x7f956fbe55b0>"
      ]
     },
     "execution_count": 437,
     "metadata": {},
     "output_type": "execute_result"
    },
    {
     "data": {
      "image/png": "[encoded data removed]",
      "text/plain": [
       "<Figure size 432x288 with 1 Axes>"
      ]
     },
     "metadata": {
      "needs_background": "light"
     },
     "output_type": "display_data"
    }
   ],
   "source": [
    "def D(q):\n",
    "    return (q - 30)**2\n",
    "def D1(q):\n",
    "    return (q - 35)**2\n",
    "\n",
    "q = np.linspace(0, 16, 1000)\n",
    "\n",
    "plt.plot(q, D(q), label = \"Demand Curve\")\n",
    "plt.plot(q, D1(q), label = \"New Demand Curve\", color = \"red\")\n",
    "\n",
    "plt.legend(frameon = False)\n",
    "plt.plot(5,630, marker=\"o\", color=\"black\")\n",
    "plt.plot(5,900, marker=\"o\", color=\"black\")\n",
    "\n",
    "plt.axvline(x=5,  ymin= 0, ymax= 0.67, linestyle = \":\", color = \"black\")\n",
    "plt.axhline(y=630, xmin= 0, xmax= 0.32, linestyle = \":\", color = \"black\")\n",
    "plt.axhline(y=900, xmin= 0, xmax= 0.32, linestyle = \":\", color = \"black\")"
   ]
  },
  {
   "cell_type": "code",
   "execution_count": 456,
   "id": "cd271c1b",
   "metadata": {},
   "outputs": [
    {
     "data": {
      "text/plain": [
       "<matplotlib.lines.Line2D at 0x7f9571469fd0>"
      ]
     },
     "execution_count": 456,
     "metadata": {},
     "output_type": "execute_result"
    },
    {
     "data": {
      "image/png": "[encoded data removed]",
      "text/plain": [
       "<Figure size 432x288 with 1 Axes>"
      ]
     },
     "metadata": {
      "needs_background": "light"
     },
     "output_type": "display_data"
    }
   ],
   "source": [
    "def D(q):\n",
    "    return (q - 30)**2\n",
    "def D1(q):\n",
    "    return (q - 35)**2\n",
    "def S(q):\n",
    "    return (q + 20)**2\n",
    "\n",
    "q = np.linspace(0, 16, 1000)\n",
    "\n",
    "plt.plot(q, D(q), label = \"Demand Curve\")\n",
    "plt.plot(q, S(q),label = \"Supply Curve\")\n",
    "plt.plot(q, D1(q), label = \"New Demand Curve\", color = \"red\")\n",
    "\n",
    "plt.legend(frameon = False)\n",
    "plt.plot(5,630, marker=\"o\", color=\"black\")\n",
    "plt.plot(7.5,760, marker=\"o\", color=\"black\")\n",
    "\n",
    "plt.axvline(x=5,  ymin= 0, ymax= 0.4, linestyle = \":\", color = \"black\")\n",
    "plt.axhline(y=630, xmin= 0, xmax= 0.32, linestyle = \":\", color = \"black\")\n",
    "plt.axvline(x=7.5,  ymin= 0, ymax= 0.5, linestyle = \":\", color = \"black\")\n",
    "plt.axhline(y=760, xmin= 0, xmax= 0.48, linestyle = \":\", color = \"black\")\n"
   ]
  },
  {
   "cell_type": "markdown",
   "id": "b0e78e17",
   "metadata": {},
   "source": [
    "### - Considering both the change in the supply and the demand for labor in the home construction industry, what can you conclude about the change in the equilibrium wage and quantity of workers hired?\n",
    "\n",
    "#### Although the increase in demand could translate into an increase in wages, the very arrival of migrants increases the labor force. So, since both curves have expanded (demand and supply increase), the equilibrium wage will remain the same (from the period before this one) while the number of workers hired increases."
   ]
  },
  {
   "cell_type": "code",
   "execution_count": 532,
   "id": "54635393",
   "metadata": {},
   "outputs": [
    {
     "data": {
      "text/plain": [
       "<matplotlib.lines.Line2D at 0x7f9578fb6ca0>"
      ]
     },
     "execution_count": 532,
     "metadata": {},
     "output_type": "execute_result"
    },
    {
     "data": {
      "image/png": "[encoded data removed]",
      "text/plain": [
       "<Figure size 432x288 with 1 Axes>"
      ]
     },
     "metadata": {
      "needs_background": "light"
     },
     "output_type": "display_data"
    }
   ],
   "source": [
    "def D(q):\n",
    "    return (q - 30)**2\n",
    "def D1(q):\n",
    "    return (q - 35)**2\n",
    "def S(q):\n",
    "    return (q + 20)**2\n",
    "def S2(q):\n",
    "    return (q + 15)**2\n",
    "\n",
    "q = np.linspace(0, 16, 1000)\n",
    "\n",
    "plt.plot(q, D(q), label = \"Demand Curve\")\n",
    "plt.plot(q, S(q),label = \"Supply Curve\")\n",
    "plt.plot(q, D1(q), label = \"New Demand Curve\", color = \"red\")\n",
    "plt.plot(q, S2(q),label = \"New Supply Curve\")\n",
    "\n",
    "plt.legend(frameon = False)\n",
    "plt.plot(5,630, marker=\"o\", color=\"black\")\n",
    "plt.plot(10,630, marker=\"o\", color=\"black\")\n",
    "\n",
    "plt.axvline(x=5,  ymin= 0, ymax= 0.4, linestyle = \":\", color = \"black\")\n",
    "plt.axhline(y=630, xmin= 0, xmax= 0.32, linestyle = \":\", color = \"black\")\n",
    "plt.axvline(x=10,  ymin= 0, ymax= 0.4, linestyle = \":\", color = \"black\")\n",
    "plt.axhline(y=630, xmin= 0, xmax= 0.6, linestyle = \":\", color = \"black\")"
   ]
  },
  {
   "cell_type": "markdown",
   "id": "129b9b2b",
   "metadata": {},
   "source": [
    "## QUESTION 08: \n",
    "\n",
    "### You have to replicate the results from Card and Kruger 1994. For this, you need to read the next sources."
   ]
  },
  {
   "cell_type": "code",
   "execution_count": 475,
   "id": "1cc8f206",
   "metadata": {},
   "outputs": [],
   "source": [
    "import pandas as pd\n",
    "import numpy as np\n",
    "import matplotlib.pyplot as plt\n",
    "import warnings \n",
    "import seaborn as sns"
   ]
  },
  {
   "cell_type": "code",
   "execution_count": 512,
   "id": "e702861e",
   "metadata": {},
   "outputs": [
    {
     "data": {
      "text/html": [
       "<div>\n",
       "<style scoped>\n",
       "    .dataframe tbody tr th:only-of-type {\n",
       "        vertical-align: middle;\n",
       "    }\n",
       "\n",
       "    .dataframe tbody tr th {\n",
       "        vertical-align: top;\n",
       "    }\n",
       "\n",
       "    .dataframe thead th {\n",
       "        text-align: right;\n",
       "    }\n",
       "</style>\n",
       "<table border=\"1\" class=\"dataframe\">\n",
       "  <thead>\n",
       "    <tr style=\"text-align: right;\">\n",
       "      <th></th>\n",
       "      <th>CO_OWNED</th>\n",
       "      <th>SOUTHJ</th>\n",
       "      <th>CENTRALJ</th>\n",
       "      <th>PA1</th>\n",
       "      <th>PA2</th>\n",
       "      <th>DEMP</th>\n",
       "      <th>nj</th>\n",
       "      <th>bk</th>\n",
       "      <th>kfc</th>\n",
       "      <th>roys</th>\n",
       "      <th>wendys</th>\n",
       "      <th>d</th>\n",
       "      <th>d_nj</th>\n",
       "      <th>fte</th>\n",
       "    </tr>\n",
       "  </thead>\n",
       "  <tbody>\n",
       "    <tr>\n",
       "      <th>0</th>\n",
       "      <td>0</td>\n",
       "      <td>0</td>\n",
       "      <td>1</td>\n",
       "      <td>0</td>\n",
       "      <td>0</td>\n",
       "      <td>12.00</td>\n",
       "      <td>1</td>\n",
       "      <td>1</td>\n",
       "      <td>0</td>\n",
       "      <td>0</td>\n",
       "      <td>0</td>\n",
       "      <td>0</td>\n",
       "      <td>0</td>\n",
       "      <td>15.00</td>\n",
       "    </tr>\n",
       "    <tr>\n",
       "      <th>1</th>\n",
       "      <td>0</td>\n",
       "      <td>0</td>\n",
       "      <td>1</td>\n",
       "      <td>0</td>\n",
       "      <td>0</td>\n",
       "      <td>6.50</td>\n",
       "      <td>1</td>\n",
       "      <td>1</td>\n",
       "      <td>0</td>\n",
       "      <td>0</td>\n",
       "      <td>0</td>\n",
       "      <td>0</td>\n",
       "      <td>0</td>\n",
       "      <td>15.00</td>\n",
       "    </tr>\n",
       "    <tr>\n",
       "      <th>2</th>\n",
       "      <td>0</td>\n",
       "      <td>0</td>\n",
       "      <td>1</td>\n",
       "      <td>0</td>\n",
       "      <td>0</td>\n",
       "      <td>-1.00</td>\n",
       "      <td>1</td>\n",
       "      <td>0</td>\n",
       "      <td>0</td>\n",
       "      <td>1</td>\n",
       "      <td>0</td>\n",
       "      <td>0</td>\n",
       "      <td>0</td>\n",
       "      <td>24.00</td>\n",
       "    </tr>\n",
       "    <tr>\n",
       "      <th>3</th>\n",
       "      <td>1</td>\n",
       "      <td>0</td>\n",
       "      <td>0</td>\n",
       "      <td>0</td>\n",
       "      <td>0</td>\n",
       "      <td>2.25</td>\n",
       "      <td>1</td>\n",
       "      <td>0</td>\n",
       "      <td>0</td>\n",
       "      <td>1</td>\n",
       "      <td>0</td>\n",
       "      <td>0</td>\n",
       "      <td>0</td>\n",
       "      <td>19.25</td>\n",
       "    </tr>\n",
       "    <tr>\n",
       "      <th>4</th>\n",
       "      <td>0</td>\n",
       "      <td>0</td>\n",
       "      <td>0</td>\n",
       "      <td>0</td>\n",
       "      <td>0</td>\n",
       "      <td>13.00</td>\n",
       "      <td>1</td>\n",
       "      <td>1</td>\n",
       "      <td>0</td>\n",
       "      <td>0</td>\n",
       "      <td>0</td>\n",
       "      <td>0</td>\n",
       "      <td>0</td>\n",
       "      <td>21.50</td>\n",
       "    </tr>\n",
       "    <tr>\n",
       "      <th>...</th>\n",
       "      <td>...</td>\n",
       "      <td>...</td>\n",
       "      <td>...</td>\n",
       "      <td>...</td>\n",
       "      <td>...</td>\n",
       "      <td>...</td>\n",
       "      <td>...</td>\n",
       "      <td>...</td>\n",
       "      <td>...</td>\n",
       "      <td>...</td>\n",
       "      <td>...</td>\n",
       "      <td>...</td>\n",
       "      <td>...</td>\n",
       "      <td>...</td>\n",
       "    </tr>\n",
       "    <tr>\n",
       "      <th>815</th>\n",
       "      <td>1</td>\n",
       "      <td>0</td>\n",
       "      <td>0</td>\n",
       "      <td>0</td>\n",
       "      <td>1</td>\n",
       "      <td>-2.50</td>\n",
       "      <td>0</td>\n",
       "      <td>0</td>\n",
       "      <td>0</td>\n",
       "      <td>1</td>\n",
       "      <td>0</td>\n",
       "      <td>1</td>\n",
       "      <td>0</td>\n",
       "      <td>12.50</td>\n",
       "    </tr>\n",
       "    <tr>\n",
       "      <th>816</th>\n",
       "      <td>0</td>\n",
       "      <td>0</td>\n",
       "      <td>0</td>\n",
       "      <td>0</td>\n",
       "      <td>1</td>\n",
       "      <td>16.00</td>\n",
       "      <td>0</td>\n",
       "      <td>0</td>\n",
       "      <td>0</td>\n",
       "      <td>1</td>\n",
       "      <td>0</td>\n",
       "      <td>1</td>\n",
       "      <td>0</td>\n",
       "      <td>34.00</td>\n",
       "    </tr>\n",
       "    <tr>\n",
       "      <th>817</th>\n",
       "      <td>1</td>\n",
       "      <td>0</td>\n",
       "      <td>0</td>\n",
       "      <td>0</td>\n",
       "      <td>1</td>\n",
       "      <td>-10.25</td>\n",
       "      <td>0</td>\n",
       "      <td>0</td>\n",
       "      <td>0</td>\n",
       "      <td>1</td>\n",
       "      <td>0</td>\n",
       "      <td>1</td>\n",
       "      <td>0</td>\n",
       "      <td>10.00</td>\n",
       "    </tr>\n",
       "    <tr>\n",
       "      <th>818</th>\n",
       "      <td>0</td>\n",
       "      <td>0</td>\n",
       "      <td>0</td>\n",
       "      <td>1</td>\n",
       "      <td>0</td>\n",
       "      <td>-1.50</td>\n",
       "      <td>0</td>\n",
       "      <td>1</td>\n",
       "      <td>0</td>\n",
       "      <td>0</td>\n",
       "      <td>0</td>\n",
       "      <td>1</td>\n",
       "      <td>0</td>\n",
       "      <td>14.00</td>\n",
       "    </tr>\n",
       "    <tr>\n",
       "      <th>819</th>\n",
       "      <td>0</td>\n",
       "      <td>0</td>\n",
       "      <td>0</td>\n",
       "      <td>1</td>\n",
       "      <td>0</td>\n",
       "      <td>-3.50</td>\n",
       "      <td>0</td>\n",
       "      <td>1</td>\n",
       "      <td>0</td>\n",
       "      <td>0</td>\n",
       "      <td>0</td>\n",
       "      <td>1</td>\n",
       "      <td>0</td>\n",
       "      <td>17.50</td>\n",
       "    </tr>\n",
       "  </tbody>\n",
       "</table>\n",
       "<p>820 rows × 14 columns</p>\n",
       "</div>"
      ],
      "text/plain": [
       "     CO_OWNED  SOUTHJ  CENTRALJ  PA1  PA2   DEMP  nj  bk  kfc  roys  wendys  \\\n",
       "0           0       0         1    0    0  12.00   1   1    0     0       0   \n",
       "1           0       0         1    0    0   6.50   1   1    0     0       0   \n",
       "2           0       0         1    0    0  -1.00   1   0    0     1       0   \n",
       "3           1       0         0    0    0   2.25   1   0    0     1       0   \n",
       "4           0       0         0    0    0  13.00   1   1    0     0       0   \n",
       "..        ...     ...       ...  ...  ...    ...  ..  ..  ...   ...     ...   \n",
       "815         1       0         0    0    1  -2.50   0   0    0     1       0   \n",
       "816         0       0         0    0    1  16.00   0   0    0     1       0   \n",
       "817         1       0         0    0    1 -10.25   0   0    0     1       0   \n",
       "818         0       0         0    1    0  -1.50   0   1    0     0       0   \n",
       "819         0       0         0    1    0  -3.50   0   1    0     0       0   \n",
       "\n",
       "     d  d_nj    fte  \n",
       "0    0     0  15.00  \n",
       "1    0     0  15.00  \n",
       "2    0     0  24.00  \n",
       "3    0     0  19.25  \n",
       "4    0     0  21.50  \n",
       "..  ..   ...    ...  \n",
       "815  1     0  12.50  \n",
       "816  1     0  34.00  \n",
       "817  1     0  10.00  \n",
       "818  1     0  14.00  \n",
       "819  1     0  17.50  \n",
       "\n",
       "[820 rows x 14 columns]"
      ]
     },
     "execution_count": 512,
     "metadata": {},
     "output_type": "execute_result"
    }
   ],
   "source": [
    "df2 = pd.read_csv(\"njmin3_1.csv\")\n",
    "df2"
   ]
  },
  {
   "cell_type": "code",
   "execution_count": 507,
   "id": "daa6ec9a",
   "metadata": {},
   "outputs": [],
   "source": [
    "import statsmodels.formula.api as smf \n",
    "import statsmodels.api as sm  \n",
    "import seaborn as sns\n",
    "import matplotlib.pyplot as plt "
   ]
  },
  {
   "cell_type": "code",
   "execution_count": 534,
   "id": "c8b3e3d9",
   "metadata": {},
   "outputs": [
    {
     "name": "stdout",
     "output_type": "stream",
     "text": [
      "                            OLS Regression Results                            \n",
      "==============================================================================\n",
      "Dep. Variable:                    fte   R-squared:                       0.219\n",
      "Model:                            OLS   Adj. R-squared:                  0.211\n",
      "Method:                 Least Squares   F-statistic:                     27.47\n",
      "Date:                Sat, 21 May 2022   Prob (F-statistic):           9.44e-38\n",
      "Time:                        12:13:18   Log-Likelihood:                -2809.2\n",
      "No. Observations:                 794   AIC:                             5636.\n",
      "Df Residuals:                     785   BIC:                             5679.\n",
      "Df Model:                           8                                         \n",
      "Covariance Type:            nonrobust                                         \n",
      "==============================================================================\n",
      "                 coef    std err          t      P>|t|      [0.025      0.975]\n",
      "------------------------------------------------------------------------------\n",
      "Intercept     24.3532      0.601     40.549      0.000      23.174      25.532\n",
      "d_nj           0.6401      0.630      1.016      0.310      -0.597       1.877\n",
      "kfc          -10.0556      0.845    -11.899      0.000     -11.714      -8.397\n",
      "roys          -1.7036      0.858     -1.985      0.048      -3.389      -0.019\n",
      "wendys        -1.0349      0.921     -1.124      0.261      -2.842       0.772\n",
      "CO_OWNED      -0.7064      0.719     -0.983      0.326      -2.117       0.704\n",
      "SOUTHJ        -3.6672      0.755     -4.857      0.000      -5.149      -2.185\n",
      "CENTRALJ       0.0452      0.878      0.052      0.959      -1.677       1.768\n",
      "PA1            0.7740      1.130      0.685      0.494      -1.444       2.992\n",
      "==============================================================================\n",
      "Omnibus:                      296.588   Durbin-Watson:                   2.041\n",
      "Prob(Omnibus):                  0.000   Jarque-Bera (JB):             1861.874\n",
      "Skew:                           1.553   Prob(JB):                         0.00\n",
      "Kurtosis:                       9.828   Cond. No.                         5.17\n",
      "==============================================================================\n",
      "\n",
      "Notes:\n",
      "[1] Standard Errors assume that the covariance matrix of the errors is correctly specified.\n"
     ]
    }
   ],
   "source": [
    "model_1 = smf.ols(formula = \"fte ~ d_nj + kfc + roys + wendys + CO_OWNED + SOUTHJ + CENTRALJ + PA1\", data = df2).fit()\n",
    "print(model_1.summary())\n"
   ]
  },
  {
   "cell_type": "code",
   "execution_count": 546,
   "id": "36f486ac",
   "metadata": {},
   "outputs": [
    {
     "data": {
      "text/plain": [
       "[20.439408099688475,\n",
       " 21.02742946708464,\n",
       " 23.33116883116883,\n",
       " 21.165584415584416,\n",
       " 20.439408099688475,\n",
       " 17.547647368208118]"
      ]
     },
     "execution_count": 546,
     "metadata": {},
     "output_type": "execute_result"
    }
   ],
   "source": [
    "# New Jersey before and after\n",
    "NJ_before = df2.loc[(df2['nj']==1) & (df2['d']!=1),'fte'].mean()\n",
    "NJ_after  = df2.loc[(df2['nj']==1) & (df2['d']==1),'fte'].mean()\n",
    "\n",
    "# Philadelphia before and after\n",
    "PA_before = df2.loc[(df2['nj']!=1) & (df2['d']!=1),'fte'].mean()\n",
    "PA_after  = df2.loc[(df2['nj']!=1) & (df2['d']==1),'fte'].mean()\n",
    "\n",
    "# New Jersey counterfactual (if no treatment)\n",
    "NJ_counterfactual = NJ_before + ( NJ_before - PA_before )\n",
    "\n",
    "[NJ_before, NJ_after,\n",
    " PA_before,PA_after,\n",
    " NJ_before, NJ_counterfactual]"
   ]
  },
  {
   "cell_type": "code",
   "execution_count": 526,
   "id": "1d0e0456",
   "metadata": {},
   "outputs": [
    {
     "data": {
      "text/plain": [
       "Text(0.5, 1.0, 'Difference-in-difference: Before and After')"
      ]
     },
     "execution_count": 526,
     "metadata": {},
     "output_type": "execute_result"
    },
    {
     "data": {
      "text/plain": [
       "<Figure size 320x240 with 0 Axes>"
      ]
     },
     "metadata": {},
     "output_type": "display_data"
    },
    {
     "data": {
      "image/png": "[encoded data removed]",
      "text/plain": [
       "<Figure size 432x288 with 1 Axes>"
      ]
     },
     "metadata": {
      "needs_background": "light"
     },
     "output_type": "display_data"
    }
   ],
   "source": [
    "plt.figure(num=None, figsize=(4, 3), dpi=80, facecolor='w', edgecolor='k')\n",
    "fig, ax = plt.subplots()\n",
    "lineNJ, = ax.plot(['0', '1'], [NJ_before, NJ_after],color='darkorange',label='NJ before and after')\n",
    "linePA, = ax.plot(['0', '1'], [PA_before, PA_after],color = 'darkgreen',label = 'PA before and after')\n",
    "lineNJ0, = ax.plot(['0', '1'], [NJ_before, NJ_counterfactual],color = 'darkorange',linestyle='dashed',label='NJ counterfactual')\n",
    "ax.legend()\n",
    "plt.ylim(15, 28)  \n",
    "plt.title(\"Difference-in-difference: Before and After\", fontsize=\"14\")\n"
   ]
  },
  {
   "cell_type": "markdown",
   "id": "4302eb43",
   "metadata": {},
   "source": [
    "### - Does the minimum wage have an impact on employment?\n",
    "\n",
    "#### Observing the last graph, the minimum wage does have an effect on employment. However, this effect is not consistent with the mainstream thesis which argues that an increase in minimum wage will reduce employment. Rather, in the case of New Jersey, employment grew: before law was enacted, average number of full-time employees in fast food restaurants was 20.4, and after the increase, it grew to 21.0. Nevertheless, these data alone do not provide the full picture. Following the case of Philadelphia, where there was no increase in the minimum wage, it is observed that employment did decrease during the same period of time. This, together with the prediction of what would have happened if the New Jersey minimum wage was maintained, leads to the following conclusion: the increase in minimum wage has a positive effect on employment. It should be noted that this result only applies to the fast food market in Philadelphia and New Jersey.\n"
   ]
  },
  {
   "cell_type": "markdown",
   "id": "425932d1",
   "metadata": {},
   "source": [
    "### - What is the difference and difference method and explain in detail using figures and/or equations?"
   ]
  },
  {
   "cell_type": "code",
   "execution_count": 544,
   "id": "07497f01",
   "metadata": {},
   "outputs": [
    {
     "data": {
      "text/html": [
       "<div>\n",
       "<style scoped>\n",
       "    .dataframe tbody tr th:only-of-type {\n",
       "        vertical-align: middle;\n",
       "    }\n",
       "\n",
       "    .dataframe tbody tr th {\n",
       "        vertical-align: top;\n",
       "    }\n",
       "\n",
       "    .dataframe thead th {\n",
       "        text-align: right;\n",
       "    }\n",
       "</style>\n",
       "<table border=\"1\" class=\"dataframe\">\n",
       "  <thead>\n",
       "    <tr style=\"text-align: right;\">\n",
       "      <th></th>\n",
       "      <th>Groups</th>\n",
       "      <th>Before</th>\n",
       "      <th>After</th>\n",
       "      <th>Difference</th>\n",
       "    </tr>\n",
       "  </thead>\n",
       "  <tbody>\n",
       "    <tr>\n",
       "      <th>0</th>\n",
       "      <td>Tratment group</td>\n",
       "      <td>X1</td>\n",
       "      <td>X2</td>\n",
       "      <td>X2-X1</td>\n",
       "    </tr>\n",
       "    <tr>\n",
       "      <th>1</th>\n",
       "      <td>Control group</td>\n",
       "      <td>Y1</td>\n",
       "      <td>Y2</td>\n",
       "      <td>Y2-Y1</td>\n",
       "    </tr>\n",
       "    <tr>\n",
       "      <th>2</th>\n",
       "      <td>Difference in differences</td>\n",
       "      <td></td>\n",
       "      <td></td>\n",
       "      <td>(X2-X1) - (Y2-Y1)</td>\n",
       "    </tr>\n",
       "  </tbody>\n",
       "</table>\n",
       "</div>"
      ],
      "text/plain": [
       "                      Groups Before After         Difference\n",
       "0             Tratment group     X1    X2              X2-X1\n",
       "1              Control group     Y1    Y2              Y2-Y1\n",
       "2  Difference in differences               (X2-X1) - (Y2-Y1)"
      ]
     },
     "execution_count": 544,
     "metadata": {},
     "output_type": "execute_result"
    }
   ],
   "source": [
    "df3 = pd.DataFrame()\n",
    "\n",
    "df3['Groups'] = ['Tratment group', 'Control group', 'Difference in differences']\n",
    "df3['Before'] = ['X1', 'Y1', '']\n",
    "df3['After'] = ['X2', 'Y2', '']\n",
    "df3['Difference'] = ['X2-X1', 'Y2-Y1', '(X2-X1) - (Y2-Y1)']\n",
    "\n",
    "df3"
   ]
  },
  {
   "cell_type": "markdown",
   "id": "588f8435",
   "metadata": {},
   "source": [
    "#### The difference-in-differences method allows economic analyzes to not only establish correlations, but causal relationships. This method tries to emulate the scientism that characterizes basic sciences. The difference-in-differences method is used by establishing a treatment group and a control group to compare the change that occurs in the former, which was exposed to a particular phenomenon or event. Although this is quite recurrent in disciplines such as chemistry or medicine (the study of vaccines for COVID-19 is an example), it has a big problem in relation to Social Cciences, such as economics: since people inside of the market are the object of study, researchers cannot and do not have the capacity to divide the population into two groups and expose one of them to an economic experiment.\n",
    "\n",
    "#### Faced with this impossibility, the difference-in-differences method takes advantage of the \"natural experiments\" that occur in the social world. For example, the effects of public policies within a country. Let us think that Comprehensive Sex Education is included in the national educational curriculum. The difference-in-differences method could be used to compare the teen pregnancy rate before and after the implementation of this public policy. The table presented would be completed as follows:\n",
    "\n",
    "##### - Treatment group: 5-year period after CSE implementation\n",
    "##### - Control group: 5-year period before the implementation of the CSE\n",
    "##### - Before: teen pregnancy rate at the beginning of each period\n",
    "##### - After: teen pregnancy rate at the end of the period\n",
    "\n",
    "#### In this way, the impact and effectiveness of the CSE will be reflected in the difference between the rates of each period. \n"
   ]
  },
  {
   "cell_type": "markdown",
   "id": "a14bc263",
   "metadata": {},
   "source": [
    "### - How this method is used to calculate the impact of minimum wage on employment?\n",
    "\n",
    "#### In Card and Krueger's study, this method was used taking advantage of the natural experiment of the increase in the minimum wage in a US State. Therefore, the treatment group was New Jersey (where the minimum wage increased) and the fenced-in state of Pennsylvania as the control group (where no increase was experienced). However, in the replica above, the control group was Philadelphia. Taking the data of the average number of fast food restaurant employees in each state before and after the increase in New Jersey, it was observed that employment in New Jersey grew by 0.6 points, while that of Philadelphia decreased by 2.17 points. Although these results already provide an approach, the differences-in-differences method compares them to find out the policy's efectiveness. The difference in difference is 2.77 and implies that the average number of New Jersey employees increased by 2.77 employees more than the average Philadelphia's employees changed during the same time period.\n",
    "\n",
    "#### In conclusion, the increase in the minimum wage in New Jersey did not reduce employment levels, as conventional economic theory would assume. Rather this increase in minimum wage has increased employment rate."
   ]
  }
 ],
 "metadata": {
  "kernelspec": {
   "display_name": "Python 3 (ipykernel)",
   "language": "python",
   "name": "python3"
  },
  "language_info": {
   "codemirror_mode": {
    "name": "ipython",
    "version": 3
   },
   "file_extension": ".py",
   "mimetype": "text/x-python",
   "name": "python",
   "nbconvert_exporter": "python",
   "pygments_lexer": "ipython3",
   "version": "3.9.7"
  }
 },
 "nbformat": 4,
 "nbformat_minor": 5
}
